{
 "cells": [
  {
   "cell_type": "code",
   "execution_count": 1,
   "metadata": {
    "colab": {
     "base_uri": "https://localhost:8080/",
     "height": 34
    },
    "colab_type": "code",
    "id": "t9lWv-2XM7l6",
    "outputId": "77ef04fb-2bbb-4ba8-da1b-2a3d6711101d"
   },
   "outputs": [
    {
     "name": "stdout",
     "output_type": "stream",
     "text": [
      "TensorFlow 2.x selected.\n"
     ]
    }
   ],
   "source": [
    "%tensorflow_version 2.x\n",
    "import tensorflow as tf\n",
    "import numpy as np\n",
    "import os,cv2,glob"
   ]
  },
  {
   "cell_type": "code",
   "execution_count": 0,
   "metadata": {
    "colab": {},
    "colab_type": "code",
    "id": "tuFX1CzINQY_"
   },
   "outputs": [],
   "source": [
    "def _bytes_feature(value):\n",
    "    if isinstance(value, type(tf.constant(0))):\n",
    "        value = value.numpy() \n",
    "    return tf.train.Feature(bytes_list=tf.train.BytesList(value=[value]))\n",
    "\n",
    "def _float_feature(value):\n",
    "    return tf.train.Feature(float_list=tf.train.FloatList(value=value))\n",
    "\n",
    "def _int64_feature(value):\n",
    "    return tf.train.Feature(int64_list=tf.train.Int64List(value=value))"
   ]
  },
  {
   "cell_type": "code",
   "execution_count": 0,
   "metadata": {
    "colab": {},
    "colab_type": "code",
    "id": "DDR1mL_oSoX2"
   },
   "outputs": [],
   "source": [
    "def image_example(image_string,label):\n",
    "    feature = {\n",
    "      'image_raw': _bytes_feature(image_string),\n",
    "        'label': _float_feature(label),\n",
    "    }\n",
    "    return tf.train.Example(features=tf.train.Features(feature=feature))  "
   ]
  },
  {
   "cell_type": "code",
   "execution_count": 0,
   "metadata": {
    "colab": {},
    "colab_type": "code",
    "id": "m2h1gIDUhk1o"
   },
   "outputs": [],
   "source": [
    "class_list = ['COVID-19','Normal']"
   ]
  },
  {
   "cell_type": "code",
   "execution_count": 0,
   "metadata": {
    "colab": {},
    "colab_type": "code",
    "id": "nABuD5tRXUtW"
   },
   "outputs": [],
   "source": [
    "train_dataset = tf.data.TFRecordDataset(glob.glob('/content/drive/My Drive/COVID-19-Xrays/Binary/Train/*.tfrecord'),num_parallel_reads=3)\n",
    "val_dataset = tf.data.TFRecordDataset(glob.glob('/content/drive/My Drive/COVID-19-Xrays/Binary/Test/*.tfrecord'),num_parallel_reads=3)\n",
    "\n",
    "image_feature_description = {\n",
    "    'image_raw': tf.io.FixedLenFeature([], tf.string),\n",
    "    'label': tf.io.FixedLenFeature([2],dtype=tf.float32)\n",
    "}\n",
    "\n",
    "def _parse_image_function(example_proto):\n",
    "  features = tf.io.parse_single_example(example_proto, image_feature_description)\n",
    "  image_raw = tf.image.decode_jpeg(features['image_raw'],channels=1)\n",
    "  image_raw = tf.cast(image_raw , tf.float32) * (1. / 255)\n",
    "  image_raw = tf.image.resize(image_raw,(300,400))\n",
    "\n",
    "  label = features['label']\n",
    "\n",
    "  return image_raw,label\n",
    "\n",
    "train_dataset = train_dataset.map(_parse_image_function)\n",
    "val_dataset = val_dataset.map(_parse_image_function)"
   ]
  },
  {
   "cell_type": "code",
   "execution_count": 7,
   "metadata": {
    "colab": {
     "base_uri": "https://localhost:8080/",
     "height": 34
    },
    "colab_type": "code",
    "id": "GBAWKPPL2TqX",
    "outputId": "35db784f-d281-4498-f826-a5300d0f0d4c"
   },
   "outputs": [
    {
     "data": {
      "text/plain": [
       "(180, 1781)"
      ]
     },
     "execution_count": 7,
     "metadata": {
      "tags": []
     },
     "output_type": "execute_result"
    }
   ],
   "source": [
    "c0,c1 = 0,0\n",
    "for i,j in train_dataset:\n",
    "  if (j.numpy()==[1,0]).all():\n",
    "    c0+=1\n",
    "  elif (j.numpy()==[0,1]).all():\n",
    "    c1+=1\n",
    "c0,c1    "
   ]
  },
  {
   "cell_type": "code",
   "execution_count": 8,
   "metadata": {
    "colab": {
     "base_uri": "https://localhost:8080/",
     "height": 34
    },
    "colab_type": "code",
    "id": "RRa1MhIV26X6",
    "outputId": "50271e33-4b53-4627-abaf-0fadb09807e8"
   },
   "outputs": [
    {
     "data": {
      "text/plain": [
       "(9, 450)"
      ]
     },
     "execution_count": 8,
     "metadata": {
      "tags": []
     },
     "output_type": "execute_result"
    }
   ],
   "source": [
    "c2,c3 = 0,0\n",
    "for i,j in val_dataset:\n",
    "  if (j.numpy()==[1,0]).all():\n",
    "    c2+=1\n",
    "  elif (j.numpy()==[0,1]).all():\n",
    "    c3+=1\n",
    "c2,c3      "
   ]
  },
  {
   "cell_type": "code",
   "execution_count": 9,
   "metadata": {
    "colab": {
     "base_uri": "https://localhost:8080/",
     "height": 50
    },
    "colab_type": "code",
    "id": "Rmut-CmiC4ot",
    "outputId": "df07f475-4d39-4460-c97a-80e4f34c3a6a"
   },
   "outputs": [
    {
     "data": {
      "text/plain": [
       "(<PrefetchDataset shapes: ((None, 300, 400, 1), (None, 2)), types: (tf.float32, tf.float32)>,\n",
       " <BatchDataset shapes: ((None, 300, 400, 1), (None, 2)), types: (tf.float32, tf.float32)>)"
      ]
     },
     "execution_count": 9,
     "metadata": {
      "tags": []
     },
     "output_type": "execute_result"
    }
   ],
   "source": [
    "TRAIN_BATCH = 16\n",
    "VAL_BATCH = 16\n",
    "\n",
    "train_dataset = train_dataset.repeat().shuffle(2000).batch(TRAIN_BATCH).prefetch(8)\n",
    "val_dataset = val_dataset.repeat().shuffle(500).batch(VAL_BATCH)\n",
    "train_dataset,val_dataset"
   ]
  },
  {
   "cell_type": "code",
   "execution_count": 0,
   "metadata": {
    "colab": {},
    "colab_type": "code",
    "id": "eg3pgLUDPj60"
   },
   "outputs": [],
   "source": [
    "distribution = {1:1781 , 0: 180}\n",
    "total_train_samples = 180+1781\n",
    "total_test_samples = 450+9"
   ]
  },
  {
   "cell_type": "code",
   "execution_count": 11,
   "metadata": {
    "colab": {
     "base_uri": "https://localhost:8080/",
     "height": 34
    },
    "colab_type": "code",
    "id": "yuKI5ui1eUA0",
    "outputId": "3e547aee-c229-47d7-90ab-40de1705e9a3"
   },
   "outputs": [
    {
     "name": "stdout",
     "output_type": "stream",
     "text": [
      "{0: 5.447222222222222, 1: 0.5505334081976417}\n"
     ]
    }
   ],
   "source": [
    "samples = {0:(1781+180)/(2*180),1:(1781+180)/(2*1781)}\n",
    "print(samples)"
   ]
  },
  {
   "cell_type": "code",
   "execution_count": 0,
   "metadata": {
    "colab": {},
    "colab_type": "code",
    "id": "UAL_9Q3Wb48G"
   },
   "outputs": [],
   "source": [
    "from tensorflow.keras.layers import Dense,Conv2D,SeparableConv2D,Dropout,MaxPool2D,MaxPooling2D,GlobalMaxPooling2D,BatchNormalization,Flatten,Dense\n",
    "\n",
    "def create_model(shape=(300,400,1)):\n",
    "    model = tf.keras.models.Sequential()\n",
    "    \n",
    "    model.add(Conv2D(512,5,(2,2),activation='relu',input_shape=shape))\n",
    "    model.add(Conv2D(256,2,activation='relu'))\n",
    "    model.add(MaxPool2D())\n",
    "  \n",
    "    model.add(Conv2D(32,3,activation='relu'))\n",
    "    model.add(Conv2D(128,1,activation='relu'))\n",
    "    model.add(MaxPool2D())\n",
    "\n",
    "    model.add(Conv2D(32,4,(2,2),activation='relu'))\n",
    "    model.add(Conv2D(64,2))\n",
    "    model.add(MaxPool2D())\n",
    "\n",
    "    model.add(GlobalMaxPooling2D())\n",
    "    model.add(Dense(256,activation='relu'))\n",
    "    model.add(Dropout(0.4))\n",
    "    model.add(Dense(64,activation='relu'))\n",
    "    model.add(Dense(len(class_list),activation='softmax'))            \n",
    "\n",
    "    return model"
   ]
  },
  {
   "cell_type": "code",
   "execution_count": 13,
   "metadata": {
    "colab": {
     "base_uri": "https://localhost:8080/",
     "height": 622
    },
    "colab_type": "code",
    "id": "Y1MPrVEkfr3t",
    "outputId": "cfe0f0d5-f63f-4cad-b85f-e5e857ec88bd"
   },
   "outputs": [
    {
     "name": "stdout",
     "output_type": "stream",
     "text": [
      "Model: \"sequential\"\n",
      "_________________________________________________________________\n",
      "Layer (type)                 Output Shape              Param #   \n",
      "=================================================================\n",
      "conv2d (Conv2D)              (None, 148, 198, 512)     13312     \n",
      "_________________________________________________________________\n",
      "conv2d_1 (Conv2D)            (None, 147, 197, 256)     524544    \n",
      "_________________________________________________________________\n",
      "max_pooling2d (MaxPooling2D) (None, 73, 98, 256)       0         \n",
      "_________________________________________________________________\n",
      "conv2d_2 (Conv2D)            (None, 71, 96, 32)        73760     \n",
      "_________________________________________________________________\n",
      "conv2d_3 (Conv2D)            (None, 71, 96, 128)       4224      \n",
      "_________________________________________________________________\n",
      "max_pooling2d_1 (MaxPooling2 (None, 35, 48, 128)       0         \n",
      "_________________________________________________________________\n",
      "conv2d_4 (Conv2D)            (None, 16, 23, 32)        65568     \n",
      "_________________________________________________________________\n",
      "conv2d_5 (Conv2D)            (None, 15, 22, 64)        8256      \n",
      "_________________________________________________________________\n",
      "max_pooling2d_2 (MaxPooling2 (None, 7, 11, 64)         0         \n",
      "_________________________________________________________________\n",
      "global_max_pooling2d (Global (None, 64)                0         \n",
      "_________________________________________________________________\n",
      "dense (Dense)                (None, 256)               16640     \n",
      "_________________________________________________________________\n",
      "dropout (Dropout)            (None, 256)               0         \n",
      "_________________________________________________________________\n",
      "dense_1 (Dense)              (None, 64)                16448     \n",
      "_________________________________________________________________\n",
      "dense_2 (Dense)              (None, 2)                 130       \n",
      "=================================================================\n",
      "Total params: 722,882\n",
      "Trainable params: 722,882\n",
      "Non-trainable params: 0\n",
      "_________________________________________________________________\n"
     ]
    }
   ],
   "source": [
    "model = create_model()\n",
    "model.summary()"
   ]
  },
  {
   "cell_type": "code",
   "execution_count": 0,
   "metadata": {
    "colab": {},
    "colab_type": "code",
    "id": "oU4Wc6frf3JM"
   },
   "outputs": [],
   "source": [
    "optimizer = tf.keras.optimizers.SGD(momentum=0.9,learning_rate=0.005)\n",
    "model.compile(loss='categorical_crossentropy',optimizer=optimizer,metrics=[],weighted_metrics=['accuracy',tf.keras.metrics.Precision(),tf.keras.metrics.Recall(),tf.keras.metrics.AUC()])"
   ]
  },
  {
   "cell_type": "code",
   "execution_count": 0,
   "metadata": {
    "colab": {},
    "colab_type": "code",
    "id": "aD7vd1x6PODk"
   },
   "outputs": [],
   "source": [
    "tf.keras.backend.clear_session()"
   ]
  },
  {
   "cell_type": "code",
   "execution_count": 0,
   "metadata": {
    "colab": {},
    "colab_type": "code",
    "id": "k_NChnckWYnX"
   },
   "outputs": [],
   "source": [
    "model = tf.keras.models.load_model('/content/drive/My Drive/COVID-19-Xrays/22_03_2020.h5')"
   ]
  },
  {
   "cell_type": "code",
   "execution_count": 0,
   "metadata": {
    "colab": {},
    "colab_type": "code",
    "id": "Gs9iMj15fn3G"
   },
   "outputs": [],
   "source": [
    "early_stopping = tf.keras.callbacks.EarlyStopping(patience=10,verbose=1)\n",
    "model_checkpoint = tf.keras.callbacks.ModelCheckpoint('Checkpoint.h5',save_best_only=True,verbose=1)"
   ]
  },
  {
   "cell_type": "code",
   "execution_count": 16,
   "metadata": {
    "colab": {
     "base_uri": "https://localhost:8080/",
     "height": 1000
    },
    "colab_type": "code",
    "id": "fPaEuXZYgCAj",
    "outputId": "207d0e8f-0da0-41a1-cd2e-4af32a8605ed"
   },
   "outputs": [
    {
     "name": "stdout",
     "output_type": "stream",
     "text": [
      "Train for 122 steps, validate for 28 steps\n",
      "Epoch 1/40\n",
      "121/122 [============================>.] - ETA: 0s - loss: 0.7545 - accuracy: 0.5598 - precision: 0.5598 - recall: 0.5598 - auc: 0.5745\n",
      "Epoch 00001: val_loss improved from inf to 0.45156, saving model to Checkpoint.h5\n",
      "122/122 [==============================] - 48s 390ms/step - loss: 0.7549 - accuracy: 0.5600 - precision: 0.5600 - recall: 0.5600 - auc: 0.5744 - val_loss: 0.4516 - val_accuracy: 0.7151 - val_precision: 0.7151 - val_recall: 0.7151 - val_auc: 0.8255\n",
      "Epoch 2/40\n",
      "121/122 [============================>.] - ETA: 0s - loss: 0.5537 - accuracy: 0.7488 - precision: 0.7488 - recall: 0.7488 - auc: 0.8040\n",
      "Epoch 00002: val_loss improved from 0.45156 to 0.33437, saving model to Checkpoint.h5\n",
      "122/122 [==============================] - 38s 310ms/step - loss: 0.5545 - accuracy: 0.7490 - precision: 0.7490 - recall: 0.7490 - auc: 0.8045 - val_loss: 0.3344 - val_accuracy: 0.8106 - val_precision: 0.8106 - val_recall: 0.8106 - val_auc: 0.8538\n",
      "Epoch 3/40\n",
      "121/122 [============================>.] - ETA: 0s - loss: 0.4557 - accuracy: 0.7862 - precision: 0.7862 - recall: 0.7862 - auc: 0.8766\n",
      "Epoch 00003: val_loss did not improve from 0.33437\n",
      "122/122 [==============================] - 38s 310ms/step - loss: 0.4573 - accuracy: 0.7849 - precision: 0.7849 - recall: 0.7849 - auc: 0.8758 - val_loss: 0.3426 - val_accuracy: 0.7728 - val_precision: 0.7728 - val_recall: 0.7728 - val_auc: 0.9009\n",
      "Epoch 4/40\n",
      "121/122 [============================>.] - ETA: 0s - loss: 0.3953 - accuracy: 0.8214 - precision: 0.8214 - recall: 0.8214 - auc: 0.9023\n",
      "Epoch 00004: val_loss improved from 0.33437 to 0.28807, saving model to Checkpoint.h5\n",
      "122/122 [==============================] - 38s 310ms/step - loss: 0.3972 - accuracy: 0.8202 - precision: 0.8202 - recall: 0.8202 - auc: 0.9007 - val_loss: 0.2881 - val_accuracy: 0.8558 - val_precision: 0.8558 - val_recall: 0.8558 - val_auc: 0.9262\n",
      "Epoch 5/40\n",
      "121/122 [============================>.] - ETA: 0s - loss: 0.4085 - accuracy: 0.8388 - precision: 0.8388 - recall: 0.8388 - auc: 0.9007\n",
      "Epoch 00005: val_loss did not improve from 0.28807\n",
      "122/122 [==============================] - 38s 309ms/step - loss: 0.4081 - accuracy: 0.8385 - precision: 0.8385 - recall: 0.8385 - auc: 0.9007 - val_loss: 0.3743 - val_accuracy: 0.8277 - val_precision: 0.8277 - val_recall: 0.8277 - val_auc: 0.8809\n",
      "Epoch 6/40\n",
      "121/122 [============================>.] - ETA: 0s - loss: 0.3548 - accuracy: 0.8588 - precision: 0.8588 - recall: 0.8588 - auc: 0.9289\n",
      "Epoch 00006: val_loss improved from 0.28807 to 0.20542, saving model to Checkpoint.h5\n",
      "122/122 [==============================] - 38s 310ms/step - loss: 0.3558 - accuracy: 0.8574 - precision: 0.8574 - recall: 0.8574 - auc: 0.9283 - val_loss: 0.2054 - val_accuracy: 0.8405 - val_precision: 0.8405 - val_recall: 0.8405 - val_auc: 0.9408\n",
      "Epoch 7/40\n",
      "121/122 [============================>.] - ETA: 0s - loss: 0.3300 - accuracy: 0.8585 - precision: 0.8585 - recall: 0.8585 - auc: 0.9356\n",
      "Epoch 00007: val_loss improved from 0.20542 to 0.14781, saving model to Checkpoint.h5\n",
      "122/122 [==============================] - 38s 309ms/step - loss: 0.3290 - accuracy: 0.8592 - precision: 0.8592 - recall: 0.8592 - auc: 0.9359 - val_loss: 0.1478 - val_accuracy: 0.8640 - val_precision: 0.8640 - val_recall: 0.8640 - val_auc: 0.9768\n",
      "Epoch 8/40\n",
      "121/122 [============================>.] - ETA: 0s - loss: 0.3090 - accuracy: 0.8623 - precision: 0.8623 - recall: 0.8623 - auc: 0.9420\n",
      "Epoch 00008: val_loss did not improve from 0.14781\n",
      "122/122 [==============================] - 38s 309ms/step - loss: 0.3070 - accuracy: 0.8632 - precision: 0.8632 - recall: 0.8632 - auc: 0.9427 - val_loss: 0.2101 - val_accuracy: 0.8711 - val_precision: 0.8711 - val_recall: 0.8711 - val_auc: 0.9475\n",
      "Epoch 9/40\n",
      "121/122 [============================>.] - ETA: 0s - loss: 0.2845 - accuracy: 0.8943 - precision: 0.8943 - recall: 0.8943 - auc: 0.9505\n",
      "Epoch 00009: val_loss improved from 0.14781 to 0.10849, saving model to Checkpoint.h5\n",
      "122/122 [==============================] - 38s 310ms/step - loss: 0.2878 - accuracy: 0.8922 - precision: 0.8922 - recall: 0.8922 - auc: 0.9496 - val_loss: 0.1085 - val_accuracy: 0.9004 - val_precision: 0.9004 - val_recall: 0.9004 - val_auc: 0.9882\n",
      "Epoch 10/40\n",
      "121/122 [============================>.] - ETA: 0s - loss: 0.3337 - accuracy: 0.8630 - precision: 0.8630 - recall: 0.8630 - auc: 0.9298\n",
      "Epoch 00010: val_loss did not improve from 0.10849\n",
      "122/122 [==============================] - 38s 308ms/step - loss: 0.3338 - accuracy: 0.8644 - precision: 0.8644 - recall: 0.8644 - auc: 0.9304 - val_loss: 0.1600 - val_accuracy: 0.8613 - val_precision: 0.8613 - val_recall: 0.8613 - val_auc: 0.9651\n",
      "Epoch 11/40\n",
      "121/122 [============================>.] - ETA: 0s - loss: 0.2272 - accuracy: 0.9134 - precision: 0.9134 - recall: 0.9134 - auc: 0.9661\n",
      "Epoch 00011: val_loss did not improve from 0.10849\n",
      "122/122 [==============================] - 38s 308ms/step - loss: 0.2256 - accuracy: 0.9138 - precision: 0.9138 - recall: 0.9138 - auc: 0.9664 - val_loss: 0.3167 - val_accuracy: 0.8029 - val_precision: 0.8029 - val_recall: 0.8029 - val_auc: 0.9518\n",
      "Epoch 12/40\n",
      "121/122 [============================>.] - ETA: 0s - loss: 0.2314 - accuracy: 0.9100 - precision: 0.9100 - recall: 0.9100 - auc: 0.9679\n",
      "Epoch 00012: val_loss did not improve from 0.10849\n",
      "122/122 [==============================] - 38s 308ms/step - loss: 0.2321 - accuracy: 0.9089 - precision: 0.9089 - recall: 0.9089 - auc: 0.9676 - val_loss: 0.2292 - val_accuracy: 0.8864 - val_precision: 0.8864 - val_recall: 0.8864 - val_auc: 0.9345\n",
      "Epoch 13/40\n",
      "121/122 [============================>.] - ETA: 0s - loss: 0.2529 - accuracy: 0.8995 - precision: 0.8995 - recall: 0.8995 - auc: 0.9617\n",
      "Epoch 00013: val_loss did not improve from 0.10849\n",
      "122/122 [==============================] - 38s 308ms/step - loss: 0.2511 - accuracy: 0.9000 - precision: 0.9000 - recall: 0.9000 - auc: 0.9620 - val_loss: 0.1127 - val_accuracy: 0.8951 - val_precision: 0.8951 - val_recall: 0.8951 - val_auc: 0.9842\n",
      "Epoch 14/40\n",
      "121/122 [============================>.] - ETA: 0s - loss: 0.2020 - accuracy: 0.9151 - precision: 0.9151 - recall: 0.9151 - auc: 0.9746\n",
      "Epoch 00014: val_loss did not improve from 0.10849\n",
      "122/122 [==============================] - 38s 308ms/step - loss: 0.2006 - accuracy: 0.9157 - precision: 0.9157 - recall: 0.9157 - auc: 0.9749 - val_loss: 0.1803 - val_accuracy: 0.9075 - val_precision: 0.9075 - val_recall: 0.9075 - val_auc: 0.9762\n",
      "Epoch 15/40\n",
      "121/122 [============================>.] - ETA: 0s - loss: 0.2418 - accuracy: 0.9073 - precision: 0.9073 - recall: 0.9073 - auc: 0.9620\n",
      "Epoch 00015: val_loss did not improve from 0.10849\n",
      "122/122 [==============================] - 38s 308ms/step - loss: 0.2408 - accuracy: 0.9077 - precision: 0.9077 - recall: 0.9077 - auc: 0.9622 - val_loss: 0.1132 - val_accuracy: 0.9165 - val_precision: 0.9165 - val_recall: 0.9165 - val_auc: 0.9825\n",
      "Epoch 16/40\n",
      "121/122 [============================>.] - ETA: 0s - loss: 0.2431 - accuracy: 0.9055 - precision: 0.9055 - recall: 0.9055 - auc: 0.9666\n",
      "Epoch 00016: val_loss did not improve from 0.10849\n",
      "122/122 [==============================] - 38s 308ms/step - loss: 0.2453 - accuracy: 0.9054 - precision: 0.9054 - recall: 0.9054 - auc: 0.9659 - val_loss: 0.1250 - val_accuracy: 0.9646 - val_precision: 0.9646 - val_recall: 0.9646 - val_auc: 0.9815\n",
      "Epoch 17/40\n",
      "121/122 [============================>.] - ETA: 0s - loss: 0.1733 - accuracy: 0.9397 - precision: 0.9397 - recall: 0.9397 - auc: 0.9829\n",
      "Epoch 00017: val_loss did not improve from 0.10849\n",
      "122/122 [==============================] - 38s 308ms/step - loss: 0.1720 - accuracy: 0.9401 - precision: 0.9401 - recall: 0.9401 - auc: 0.9831 - val_loss: 0.2608 - val_accuracy: 0.8342 - val_precision: 0.8342 - val_recall: 0.8342 - val_auc: 0.9715\n",
      "Epoch 18/40\n",
      "121/122 [============================>.] - ETA: 0s - loss: 0.1348 - accuracy: 0.9449 - precision: 0.9449 - recall: 0.9449 - auc: 0.9886\n",
      "Epoch 00018: val_loss did not improve from 0.10849\n",
      "122/122 [==============================] - 37s 307ms/step - loss: 0.1339 - accuracy: 0.9454 - precision: 0.9454 - recall: 0.9454 - auc: 0.9887 - val_loss: 0.2020 - val_accuracy: 0.8375 - val_precision: 0.8375 - val_recall: 0.8375 - val_auc: 0.9598\n",
      "Epoch 19/40\n",
      "121/122 [============================>.] - ETA: 0s - loss: 0.1613 - accuracy: 0.9351 - precision: 0.9351 - recall: 0.9351 - auc: 0.9829\n",
      "Epoch 00019: val_loss did not improve from 0.10849\n",
      "122/122 [==============================] - 38s 311ms/step - loss: 0.1603 - accuracy: 0.9354 - precision: 0.9354 - recall: 0.9354 - auc: 0.9830 - val_loss: 0.1666 - val_accuracy: 0.8876 - val_precision: 0.8876 - val_recall: 0.8876 - val_auc: 0.9715\n",
      "Epoch 00019: early stopping\n"
     ]
    }
   ],
   "source": [
    "history = model.fit(train_dataset,validation_data=val_dataset,shuffle=True,epochs=40,class_weight=samples,steps_per_epoch=total_train_samples//TRAIN_BATCH,validation_steps=total_test_samples//VAL_BATCH,callbacks=[early_stopping,model_checkpoint])"
   ]
  },
  {
   "cell_type": "code",
   "execution_count": 0,
   "metadata": {
    "colab": {},
    "colab_type": "code",
    "id": "FH0TPbgWHVBO"
   },
   "outputs": [],
   "source": [
    "model = tf.keras.models.load_model('Checkpoint.h5')"
   ]
  },
  {
   "cell_type": "code",
   "execution_count": 0,
   "metadata": {
    "colab": {},
    "colab_type": "code",
    "id": "3GCuXFLoGc6P"
   },
   "outputs": [],
   "source": [
    "model = tf.keras.models.load_model('/content/drive/My Drive/COVID-19-Xrays/Binary/BinaryCOVID-19Classifier.h5')"
   ]
  },
  {
   "cell_type": "code",
   "execution_count": 0,
   "metadata": {
    "colab": {},
    "colab_type": "code",
    "id": "TK1vMXhV5_vD"
   },
   "outputs": [],
   "source": [
    "from sklearn.metrics import precision_recall_fscore_support\n",
    "from sklearn.metrics import balanced_accuracy_score\n",
    "from sklearn.metrics import roc_auc_score\n",
    "def metrics(list1,list2,roc_list):\n",
    "  accuracy = balanced_accuracy_score(list1,list2)\n",
    "  roc_auc = roc_auc_score(list1,roc_list,multi_class='ovr',labels=[0,1],average='weighted')\n",
    "  precision,recall,fscore,_ = precision_recall_fscore_support(list1,list2,labels=[0,1],average='weighted')\n",
    "  return accuracy,precision,recall,fscore,roc_auc"
   ]
  },
  {
   "cell_type": "code",
   "execution_count": 37,
   "metadata": {
    "colab": {
     "base_uri": "https://localhost:8080/",
     "height": 101
    },
    "colab_type": "code",
    "id": "B7MK58Wtbal6",
    "outputId": "f05fb3ee-f641-415f-b881-11a3f2f70dc4"
   },
   "outputs": [
    {
     "name": "stdout",
     "output_type": "stream",
     "text": [
      "Accuracy on Test Set is:  0.9621318373071529\n",
      "Precision on Test Set is:  0.9629629629629629\n",
      "Recall on Test Set is:  0.9629629629629629\n",
      "Fscore:  0.9629629629629629\n",
      "AUC Score:  0.9621318373071529\n"
     ]
    }
   ],
   "source": [
    "image,files,roc_list = [],[],[]\n",
    "acc=0\n",
    "for i in glob.glob('/content/drive/My Drive/COVID-19-Xrays/Binary/test/*.jpeg')+glob.glob('/content/drive/My Drive/COVID-19-Xrays/Binary/test/*.png')+glob.glob('/content/drive/My Drive/COVID-19-Xrays/Binary/test/*.jpg'):\n",
    "  img = open(i,'rb').read()\n",
    "  img = tf.io.decode_jpeg(img,channels=1)\n",
    "  img = tf.cast(img , tf.float32) * (1. / 255)\n",
    "  img = tf.image.resize(img,(300,400))\n",
    "  preds = model.predict(np.expand_dims(img,axis=0))\n",
    "  roc_list.append(preds[0])\n",
    "  image.append(np.argmax(preds))\n",
    "  name = os.path.basename(i).split('.')[0]\n",
    "  if name.find('NORMAL')!=-1:\n",
    "    files.append(1) \n",
    "  else:\n",
    "    files.append(0)   \n",
    "\n",
    "accuracy,precision,recall,fscore,auc = metrics(files,image,image)\n",
    "print(\"Accuracy on Test Set is: \",accuracy)\n",
    "print(\"Precision on Test Set is: \", precision)\n",
    "print(\"Recall on Test Set is: \",recall)\n",
    "print(\"Fscore: \",fscore)\n",
    "print(\"AUC Score: \",auc)\n"
   ]
  },
  {
   "cell_type": "code",
   "execution_count": 0,
   "metadata": {
    "colab": {},
    "colab_type": "code",
    "id": "qDUPSLx2EGQ0"
   },
   "outputs": [],
   "source": [
    "# model.save('/content/drive/My Drive/COVID-19-Xrays/Binary/BinaryCOVID-19Classifier.h5')"
   ]
  },
  {
   "cell_type": "code",
   "execution_count": 32,
   "metadata": {
    "colab": {
     "base_uri": "https://localhost:8080/",
     "height": 134
    },
    "colab_type": "code",
    "id": "wpvTin5UfJgn",
    "outputId": "14f4d80d-b9b3-4419-a458-059ace399e7d"
   },
   "outputs": [
    {
     "name": "stdout",
     "output_type": "stream",
     "text": [
      "5e6dd879fde9502400e58b2f COVID-19\n",
      "171CB377-62FF-4B76-906C-F3787A01CB2E COVID-19\n",
      "FE9F9A5D-2830-46F9-851B-1FF4534959BE Normal\n",
      "C6EA0BE5-B01E-4113-B194-18D956675E25 COVID-19\n",
      "5931B64A-7B97-485D-BE60-3F1EA76BC4F0 COVID-19\n",
      "03BF7561-A9BA-4C3C-B8A0-D3E585F73F3C COVID-19\n",
      "7EF28E12-F628-4BEC-A8C5-E6277C2E4F60 COVID-19\n"
     ]
    }
   ],
   "source": [
    "image,files = [],[]\n",
    "acc=0\n",
    "for i in glob.glob('/content/*.jpeg')+glob.glob('/content/*.png')+glob.glob('/content/*.jpg'):\n",
    "  img = open(i,'rb').read()\n",
    "  img = tf.io.decode_jpeg(img,channels=1)\n",
    "  img = tf.cast(img , tf.float32) * (1. / 255)\n",
    "  img = tf.image.resize(img,(300,400))\n",
    "  preds = model.predict_classes(np.expand_dims(img,axis=0))\n",
    "  image.append(class_list[preds[0]])\n",
    "  name = os.path.basename(i).split('.')[0]\n",
    "  files.append(name)\n",
    "for i,j in zip(files,image):\n",
    "  print(i,j)\n",
    "\n",
    "# Got one wrong :P"
   ]
  }
 ],
 "metadata": {
  "accelerator": "GPU",
  "colab": {
   "collapsed_sections": [],
   "machine_shape": "hm",
   "name": "COVID_19Detector-Binary.ipynb",
   "provenance": []
  },
  "kernelspec": {
   "display_name": "Python 3",
   "language": "python",
   "name": "python3"
  },
  "language_info": {
   "codemirror_mode": {
    "name": "ipython",
    "version": 3
   },
   "file_extension": ".py",
   "mimetype": "text/x-python",
   "name": "python",
   "nbconvert_exporter": "python",
   "pygments_lexer": "ipython3",
   "version": "3.7.5"
  }
 },
 "nbformat": 4,
 "nbformat_minor": 1
}
