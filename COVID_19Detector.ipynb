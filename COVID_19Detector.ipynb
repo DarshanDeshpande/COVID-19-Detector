{
 "cells": [
  {
   "cell_type": "code",
   "execution_count": 1,
   "metadata": {
    "colab": {
     "base_uri": "https://localhost:8080/",
     "height": 34
    },
    "colab_type": "code",
    "id": "t9lWv-2XM7l6",
    "outputId": "276977a9-bc6e-4161-88aa-b28df8d13893"
   },
   "outputs": [
    {
     "name": "stdout",
     "output_type": "stream",
     "text": [
      "TensorFlow 2.x selected.\n"
     ]
    }
   ],
   "source": [
    "%tensorflow_version 2.x\n",
    "import tensorflow as tf\n",
    "import numpy as np\n",
    "import os,cv2,glob"
   ]
  },
  {
   "cell_type": "code",
   "execution_count": 0,
   "metadata": {
    "colab": {},
    "colab_type": "code",
    "id": "tuFX1CzINQY_"
   },
   "outputs": [],
   "source": [
    "def _bytes_feature(value):\n",
    "    if isinstance(value, type(tf.constant(0))):\n",
    "        value = value.numpy() # BytesList won't unpack a string from an EagerTensor.\n",
    "    return tf.train.Feature(bytes_list=tf.train.BytesList(value=[value]))\n",
    "\n",
    "def _float_feature(value):\n",
    "    return tf.train.Feature(float_list=tf.train.FloatList(value=value))\n",
    "\n",
    "def _int64_feature(value):\n",
    "    return tf.train.Feature(int64_list=tf.train.Int64List(value=value))"
   ]
  },
  {
   "cell_type": "code",
   "execution_count": 0,
   "metadata": {
    "colab": {},
    "colab_type": "code",
    "id": "DDR1mL_oSoX2"
   },
   "outputs": [],
   "source": [
    "def image_example(image_string,label):\n",
    "    feature = {\n",
    "      'image_raw': _bytes_feature(image_string),\n",
    "        'label': _float_feature(label),\n",
    "    }\n",
    "    return tf.train.Example(features=tf.train.Features(feature=feature))  "
   ]
  },
  {
   "cell_type": "code",
   "execution_count": 0,
   "metadata": {
    "colab": {},
    "colab_type": "code",
    "id": "m2h1gIDUhk1o"
   },
   "outputs": [],
   "source": [
    "class_list = ['COVID-19','Normal','BacterialPneumonia']"
   ]
  },
  {
   "cell_type": "code",
   "execution_count": 0,
   "metadata": {
    "colab": {},
    "colab_type": "code",
    "id": "nABuD5tRXUtW"
   },
   "outputs": [],
   "source": [
    "train_dataset = tf.data.TFRecordDataset(glob.glob('/content/drive/My Drive/COVID-19-Xrays/3ClassesTrainData/*.tfrecord'),num_parallel_reads=20)\n",
    "val_dataset = tf.data.TFRecordDataset(glob.glob('/content/drive/My Drive/COVID-19-Xrays/3ClassesTestData/*.tfrecord'),num_parallel_reads=3)\n",
    "\n",
    "image_feature_description = {\n",
    "    'image_raw': tf.io.FixedLenFeature([], tf.string),\n",
    "    'label': tf.io.FixedLenFeature([3],dtype=tf.float32)\n",
    "}\n",
    "\n",
    "def _parse_image_function(example_proto):\n",
    "  features = tf.io.parse_single_example(example_proto, image_feature_description)\n",
    "  image_raw = tf.image.decode_jpeg(features['image_raw'],channels=1)\n",
    "  image_raw = tf.cast(image_raw , tf.float32) * (1. / 255)\n",
    "  image_raw = tf.image.resize(image_raw,(300,400))\n",
    "\n",
    "  label = features['label']\n",
    "\n",
    "  return image_raw,label\n",
    "\n",
    "train_dataset = train_dataset.map(_parse_image_function)\n",
    "val_dataset = val_dataset.map(_parse_image_function)"
   ]
  },
  {
   "cell_type": "code",
   "execution_count": 162,
   "metadata": {
    "colab": {
     "base_uri": "https://localhost:8080/",
     "height": 50
    },
    "colab_type": "code",
    "id": "Rmut-CmiC4ot",
    "outputId": "a1b970b3-b00b-4575-83f8-6975cdf53200"
   },
   "outputs": [
    {
     "data": {
      "text/plain": [
       "(<PrefetchDataset shapes: ((None, 300, 400, 1), (None, 3)), types: (tf.float32, tf.float32)>,\n",
       " <BatchDataset shapes: ((None, 300, 400, 1), (None, 3)), types: (tf.float32, tf.float32)>)"
      ]
     },
     "execution_count": 162,
     "metadata": {
      "tags": []
     },
     "output_type": "execute_result"
    }
   ],
   "source": [
    "TRAIN_BATCH = 16\n",
    "VAL_BATCH = 16\n",
    "\n",
    "train_dataset = train_dataset.repeat().shuffle(2000).batch(TRAIN_BATCH).prefetch(8)\n",
    "val_dataset = val_dataset.repeat().shuffle(10).batch(VAL_BATCH)\n",
    "train_dataset,val_dataset"
   ]
  },
  {
   "cell_type": "code",
   "execution_count": 0,
   "metadata": {
    "colab": {},
    "colab_type": "code",
    "id": "eg3pgLUDPj60"
   },
   "outputs": [],
   "source": [
    "distribution = {1:1781 , 2:1300 , 0: 180}\n",
    "total_train_samples = 1781+1300+180\n",
    "total_test_samples = 783"
   ]
  },
  {
   "cell_type": "code",
   "execution_count": 0,
   "metadata": {
    "colab": {
     "base_uri": "https://localhost:8080/",
     "height": 34
    },
    "colab_type": "code",
    "id": "yuKI5ui1eUA0",
    "outputId": "2d906b00-b4ee-4aa4-f4a7-ff0fa3681c6e"
   },
   "outputs": [
    {
     "name": "stdout",
     "output_type": "stream",
     "text": [
      "{0: 6.038888888888889, 1: 0.6103312745648513, 2: 0.8361538461538461}\n"
     ]
    }
   ],
   "source": [
    "samples = {0:(1781+1300+180)/(3*180),1:(1781+1300+180)/(3*1781),2:(1781+1300+180)/(3*1300)}\n",
    "print(samples)"
   ]
  },
  {
   "cell_type": "code",
   "execution_count": 0,
   "metadata": {
    "colab": {},
    "colab_type": "code",
    "id": "UAL_9Q3Wb48G"
   },
   "outputs": [],
   "source": [
    "from tensorflow.keras.layers import Dense,Conv2D,SeparableConv2D,Dropout,MaxPool2D,MaxPooling2D,GlobalMaxPooling2D,BatchNormalization,Flatten,Dense\n",
    "\n",
    "def create_model(shape=(300,400,1)):\n",
    "    model = tf.keras.models.Sequential()\n",
    "    \n",
    "    model.add(Conv2D(512,5,(2,2),activation='relu',input_shape=shape))\n",
    "    model.add(Conv2D(256,2,activation='relu'))\n",
    "    model.add(MaxPool2D())\n",
    "  \n",
    "    model.add(Conv2D(32,3,activation='relu'))\n",
    "    model.add(Conv2D(128,1,activation='relu'))\n",
    "    model.add(MaxPool2D())\n",
    "\n",
    "    model.add(Conv2D(32,4,(2,2),activation='relu'))\n",
    "    model.add(Conv2D(64,2))\n",
    "    model.add(MaxPool2D())\n",
    "\n",
    "    model.add(GlobalMaxPooling2D())\n",
    "    model.add(Dense(256,activation='relu'))\n",
    "    model.add(Dropout(0.4))\n",
    "    model.add(Dense(64,activation='relu'))\n",
    "    model.add(Dense(len(class_list),activation='softmax'))            \n",
    "\n",
    "    return model"
   ]
  },
  {
   "cell_type": "code",
   "execution_count": 150,
   "metadata": {
    "colab": {
     "base_uri": "https://localhost:8080/",
     "height": 622
    },
    "colab_type": "code",
    "id": "Y1MPrVEkfr3t",
    "outputId": "3398d4f5-38c2-4ab6-f6e2-a29520ee7b9d"
   },
   "outputs": [
    {
     "name": "stdout",
     "output_type": "stream",
     "text": [
      "Model: \"sequential_1\"\n",
      "_________________________________________________________________\n",
      "Layer (type)                 Output Shape              Param #   \n",
      "=================================================================\n",
      "conv2d_6 (Conv2D)            (None, 148, 198, 512)     13312     \n",
      "_________________________________________________________________\n",
      "conv2d_7 (Conv2D)            (None, 147, 197, 256)     524544    \n",
      "_________________________________________________________________\n",
      "max_pooling2d_3 (MaxPooling2 (None, 73, 98, 256)       0         \n",
      "_________________________________________________________________\n",
      "conv2d_8 (Conv2D)            (None, 71, 96, 32)        73760     \n",
      "_________________________________________________________________\n",
      "conv2d_9 (Conv2D)            (None, 71, 96, 128)       4224      \n",
      "_________________________________________________________________\n",
      "max_pooling2d_4 (MaxPooling2 (None, 35, 48, 128)       0         \n",
      "_________________________________________________________________\n",
      "conv2d_10 (Conv2D)           (None, 16, 23, 32)        65568     \n",
      "_________________________________________________________________\n",
      "conv2d_11 (Conv2D)           (None, 15, 22, 64)        8256      \n",
      "_________________________________________________________________\n",
      "max_pooling2d_5 (MaxPooling2 (None, 7, 11, 64)         0         \n",
      "_________________________________________________________________\n",
      "global_max_pooling2d_1 (Glob (None, 64)                0         \n",
      "_________________________________________________________________\n",
      "dense_3 (Dense)              (None, 256)               16640     \n",
      "_________________________________________________________________\n",
      "dropout_1 (Dropout)          (None, 256)               0         \n",
      "_________________________________________________________________\n",
      "dense_4 (Dense)              (None, 64)                16448     \n",
      "_________________________________________________________________\n",
      "dense_5 (Dense)              (None, 3)                 195       \n",
      "=================================================================\n",
      "Total params: 722,947\n",
      "Trainable params: 722,947\n",
      "Non-trainable params: 0\n",
      "_________________________________________________________________\n"
     ]
    }
   ],
   "source": [
    "model = create_model()\n",
    "model.summary()"
   ]
  },
  {
   "cell_type": "code",
   "execution_count": 0,
   "metadata": {
    "colab": {},
    "colab_type": "code",
    "id": "oU4Wc6frf3JM"
   },
   "outputs": [],
   "source": [
    "optimizer = tf.keras.optimizers.SGD(momentum=0.9,learning_rate=0.005)\n",
    "model.compile(loss='categorical_crossentropy',optimizer=optimizer,metrics=[],weighted_metrics=['accuracy',tf.keras.metrics.Precision(),tf.keras.metrics.Recall(),tf.keras.metrics.AUC()])"
   ]
  },
  {
   "cell_type": "code",
   "execution_count": 0,
   "metadata": {
    "colab": {},
    "colab_type": "code",
    "id": "aD7vd1x6PODk"
   },
   "outputs": [],
   "source": [
    "tf.keras.backend.clear_session()"
   ]
  },
  {
   "cell_type": "code",
   "execution_count": 0,
   "metadata": {
    "colab": {},
    "colab_type": "code",
    "id": "k_NChnckWYnX"
   },
   "outputs": [],
   "source": [
    "model = tf.keras.models.load_model('/content/drive/My Drive/COVID-19-Xrays/22_03_2020.h5')"
   ]
  },
  {
   "cell_type": "code",
   "execution_count": 0,
   "metadata": {
    "colab": {},
    "colab_type": "code",
    "id": "Gs9iMj15fn3G"
   },
   "outputs": [],
   "source": [
    "early_stopping = tf.keras.callbacks.EarlyStopping(patience=10,verbose=1)\n",
    "model_checkpoint = tf.keras.callbacks.ModelCheckpoint('Checkpoint.h5',save_best_only=True,verbose=1)"
   ]
  },
  {
   "cell_type": "code",
   "execution_count": 154,
   "metadata": {
    "colab": {
     "base_uri": "https://localhost:8080/",
     "height": 1000
    },
    "colab_type": "code",
    "id": "fPaEuXZYgCAj",
    "outputId": "dafcd7b0-4dba-458d-c1c0-b503be36fa14"
   },
   "outputs": [
    {
     "name": "stdout",
     "output_type": "stream",
     "text": [
      "Train for 203 steps, validate for 48 steps\n",
      "Epoch 1/40\n",
      "202/203 [============================>.] - ETA: 0s - loss: 1.2074 - accuracy: 0.4367 - precision: 0.5518 - recall: 0.1446 - auc: 0.6131\n",
      "Epoch 00001: val_loss improved from inf to 0.79964, saving model to Checkpoint.h5\n",
      "203/203 [==============================] - 60s 296ms/step - loss: 1.2065 - accuracy: 0.4383 - precision: 0.5518 - recall: 0.1440 - auc: 0.6141 - val_loss: 0.7996 - val_accuracy: 0.4065 - val_precision: 0.0000e+00 - val_recall: 0.0000e+00 - val_auc: 0.6655\n",
      "Epoch 2/40\n",
      "202/203 [============================>.] - ETA: 0s - loss: 1.0363 - accuracy: 0.4508 - precision: 0.5860 - recall: 0.1272 - auc: 0.6493\n",
      "Epoch 00002: val_loss improved from 0.79964 to 0.75295, saving model to Checkpoint.h5\n",
      "203/203 [==============================] - 56s 276ms/step - loss: 1.0353 - accuracy: 0.4524 - precision: 0.5894 - recall: 0.1289 - auc: 0.6509 - val_loss: 0.7530 - val_accuracy: 0.4910 - val_precision: 0.5864 - val_recall: 0.2814 - val_auc: 0.7022\n",
      "Epoch 3/40\n",
      "202/203 [============================>.] - ETA: 0s - loss: 0.9075 - accuracy: 0.5556 - precision: 0.6739 - recall: 0.3216 - auc: 0.7576\n",
      "Epoch 00003: val_loss improved from 0.75295 to 0.69140, saving model to Checkpoint.h5\n",
      "203/203 [==============================] - 56s 276ms/step - loss: 0.9070 - accuracy: 0.5566 - precision: 0.6750 - recall: 0.3241 - auc: 0.7590 - val_loss: 0.6914 - val_accuracy: 0.5183 - val_precision: 0.5417 - val_recall: 0.4197 - val_auc: 0.7510\n",
      "Epoch 4/40\n",
      "202/203 [============================>.] - ETA: 0s - loss: 0.8301 - accuracy: 0.5964 - precision: 0.6573 - recall: 0.4308 - auc: 0.7913\n",
      "Epoch 00004: val_loss did not improve from 0.69140\n",
      "203/203 [==============================] - 56s 275ms/step - loss: 0.8290 - accuracy: 0.5972 - precision: 0.6585 - recall: 0.4322 - auc: 0.7921 - val_loss: 0.7144 - val_accuracy: 0.5566 - val_precision: 0.5553 - val_recall: 0.4806 - val_auc: 0.7472\n",
      "Epoch 5/40\n",
      "202/203 [============================>.] - ETA: 0s - loss: 0.8347 - accuracy: 0.6228 - precision: 0.6753 - recall: 0.4695 - auc: 0.8090\n",
      "Epoch 00005: val_loss improved from 0.69140 to 0.63219, saving model to Checkpoint.h5\n",
      "203/203 [==============================] - 56s 276ms/step - loss: 0.8345 - accuracy: 0.6222 - precision: 0.6742 - recall: 0.4686 - auc: 0.8084 - val_loss: 0.6322 - val_accuracy: 0.6358 - val_precision: 0.6502 - val_recall: 0.5742 - val_auc: 0.8090\n",
      "Epoch 6/40\n",
      "202/203 [============================>.] - ETA: 0s - loss: 0.7901 - accuracy: 0.6425 - precision: 0.7010 - recall: 0.5493 - auc: 0.8251\n",
      "Epoch 00006: val_loss improved from 0.63219 to 0.59773, saving model to Checkpoint.h5\n",
      "203/203 [==============================] - 56s 276ms/step - loss: 0.7887 - accuracy: 0.6434 - precision: 0.7019 - recall: 0.5505 - auc: 0.8258 - val_loss: 0.5977 - val_accuracy: 0.6798 - val_precision: 0.7022 - val_recall: 0.6205 - val_auc: 0.8322\n",
      "Epoch 7/40\n",
      "202/203 [============================>.] - ETA: 0s - loss: 0.7098 - accuracy: 0.6884 - precision: 0.7343 - recall: 0.6026 - auc: 0.8611\n",
      "Epoch 00007: val_loss improved from 0.59773 to 0.56923, saving model to Checkpoint.h5\n",
      "203/203 [==============================] - 56s 276ms/step - loss: 0.7097 - accuracy: 0.6886 - precision: 0.7343 - recall: 0.6028 - auc: 0.8609 - val_loss: 0.5692 - val_accuracy: 0.6853 - val_precision: 0.6936 - val_recall: 0.6627 - val_auc: 0.8636\n",
      "Epoch 8/40\n",
      "202/203 [============================>.] - ETA: 0s - loss: 0.6739 - accuracy: 0.7009 - precision: 0.7495 - recall: 0.6318 - auc: 0.8712\n",
      "Epoch 00008: val_loss improved from 0.56923 to 0.51456, saving model to Checkpoint.h5\n",
      "203/203 [==============================] - 56s 276ms/step - loss: 0.6748 - accuracy: 0.7016 - precision: 0.7498 - recall: 0.6311 - auc: 0.8714 - val_loss: 0.5146 - val_accuracy: 0.6869 - val_precision: 0.7213 - val_recall: 0.6225 - val_auc: 0.8749\n",
      "Epoch 9/40\n",
      "202/203 [============================>.] - ETA: 0s - loss: 0.6315 - accuracy: 0.7310 - precision: 0.7734 - recall: 0.6836 - auc: 0.8960\n",
      "Epoch 00009: val_loss did not improve from 0.51456\n",
      "203/203 [==============================] - 56s 276ms/step - loss: 0.6298 - accuracy: 0.7318 - precision: 0.7742 - recall: 0.6847 - auc: 0.8966 - val_loss: 0.6005 - val_accuracy: 0.7037 - val_precision: 0.7095 - val_recall: 0.6994 - val_auc: 0.8809\n",
      "Epoch 10/40\n",
      "202/203 [============================>.] - ETA: 0s - loss: 0.5692 - accuracy: 0.7705 - precision: 0.7914 - recall: 0.7341 - auc: 0.9148\n",
      "Epoch 00010: val_loss did not improve from 0.51456\n",
      "203/203 [==============================] - 56s 276ms/step - loss: 0.5710 - accuracy: 0.7694 - precision: 0.7901 - recall: 0.7332 - auc: 0.9143 - val_loss: 0.8373 - val_accuracy: 0.4400 - val_precision: 0.4475 - val_recall: 0.3727 - val_auc: 0.7032\n",
      "Epoch 11/40\n",
      "202/203 [============================>.] - ETA: 0s - loss: 0.5685 - accuracy: 0.7608 - precision: 0.7992 - recall: 0.7066 - auc: 0.9084\n",
      "Epoch 00011: val_loss improved from 0.51456 to 0.47189, saving model to Checkpoint.h5\n",
      "203/203 [==============================] - 56s 275ms/step - loss: 0.5681 - accuracy: 0.7612 - precision: 0.7997 - recall: 0.7069 - auc: 0.9086 - val_loss: 0.4719 - val_accuracy: 0.7666 - val_precision: 0.7858 - val_recall: 0.7173 - val_auc: 0.8957\n",
      "Epoch 12/40\n",
      "202/203 [============================>.] - ETA: 0s - loss: 0.5435 - accuracy: 0.7736 - precision: 0.8047 - recall: 0.7364 - auc: 0.9200\n",
      "Epoch 00012: val_loss improved from 0.47189 to 0.35062, saving model to Checkpoint.h5\n",
      "203/203 [==============================] - 56s 275ms/step - loss: 0.5424 - accuracy: 0.7740 - precision: 0.8052 - recall: 0.7371 - auc: 0.9203 - val_loss: 0.3506 - val_accuracy: 0.8172 - val_precision: 0.8204 - val_recall: 0.8157 - val_auc: 0.9405\n",
      "Epoch 13/40\n",
      "202/203 [============================>.] - ETA: 0s - loss: 0.4382 - accuracy: 0.8224 - precision: 0.8384 - recall: 0.8026 - auc: 0.9473\n",
      "Epoch 00013: val_loss did not improve from 0.35062\n",
      "203/203 [==============================] - 56s 275ms/step - loss: 0.4384 - accuracy: 0.8227 - precision: 0.8387 - recall: 0.8030 - auc: 0.9473 - val_loss: 0.5149 - val_accuracy: 0.6882 - val_precision: 0.6902 - val_recall: 0.6853 - val_auc: 0.8853\n",
      "Epoch 14/40\n",
      "202/203 [============================>.] - ETA: 0s - loss: 0.5240 - accuracy: 0.7760 - precision: 0.8008 - recall: 0.7473 - auc: 0.9230\n",
      "Epoch 00014: val_loss did not improve from 0.35062\n",
      "203/203 [==============================] - 56s 275ms/step - loss: 0.5227 - accuracy: 0.7770 - precision: 0.8017 - recall: 0.7484 - auc: 0.9235 - val_loss: 0.3938 - val_accuracy: 0.7855 - val_precision: 0.8040 - val_recall: 0.7855 - val_auc: 0.9385\n",
      "Epoch 15/40\n",
      "202/203 [============================>.] - ETA: 0s - loss: 0.4449 - accuracy: 0.8182 - precision: 0.8396 - recall: 0.8016 - auc: 0.9466\n",
      "Epoch 00015: val_loss did not improve from 0.35062\n",
      "203/203 [==============================] - 56s 274ms/step - loss: 0.4437 - accuracy: 0.8185 - precision: 0.8398 - recall: 0.8020 - auc: 0.9467 - val_loss: 0.4314 - val_accuracy: 0.8126 - val_precision: 0.8216 - val_recall: 0.8024 - val_auc: 0.9360\n",
      "Epoch 16/40\n",
      "202/203 [============================>.] - ETA: 0s - loss: 0.4741 - accuracy: 0.8115 - precision: 0.8269 - recall: 0.7927 - auc: 0.9403\n",
      "Epoch 00016: val_loss did not improve from 0.35062\n",
      "203/203 [==============================] - 56s 274ms/step - loss: 0.4737 - accuracy: 0.8110 - precision: 0.8264 - recall: 0.7923 - auc: 0.9402 - val_loss: 0.4868 - val_accuracy: 0.7547 - val_precision: 0.7602 - val_recall: 0.7416 - val_auc: 0.9031\n",
      "Epoch 17/40\n",
      "202/203 [============================>.] - ETA: 0s - loss: 0.4197 - accuracy: 0.8193 - precision: 0.8448 - recall: 0.7921 - auc: 0.9518\n",
      "Epoch 00017: val_loss did not improve from 0.35062\n",
      "203/203 [==============================] - 56s 274ms/step - loss: 0.4209 - accuracy: 0.8186 - precision: 0.8440 - recall: 0.7913 - auc: 0.9514 - val_loss: 0.4109 - val_accuracy: 0.7935 - val_precision: 0.7974 - val_recall: 0.7878 - val_auc: 0.9258\n",
      "Epoch 18/40\n",
      "202/203 [============================>.] - ETA: 0s - loss: 0.4385 - accuracy: 0.8321 - precision: 0.8447 - recall: 0.8066 - auc: 0.9449\n",
      "Epoch 00018: val_loss did not improve from 0.35062\n",
      "203/203 [==============================] - 56s 274ms/step - loss: 0.4378 - accuracy: 0.8328 - precision: 0.8456 - recall: 0.8075 - auc: 0.9453 - val_loss: 0.4886 - val_accuracy: 0.7984 - val_precision: 0.7989 - val_recall: 0.7970 - val_auc: 0.9224\n",
      "Epoch 19/40\n",
      "202/203 [============================>.] - ETA: 0s - loss: 0.3844 - accuracy: 0.8536 - precision: 0.8641 - recall: 0.8424 - auc: 0.9602\n",
      "Epoch 00019: val_loss improved from 0.35062 to 0.34131, saving model to Checkpoint.h5\n",
      "203/203 [==============================] - 56s 274ms/step - loss: 0.3831 - accuracy: 0.8539 - precision: 0.8644 - recall: 0.8427 - auc: 0.9604 - val_loss: 0.3413 - val_accuracy: 0.8233 - val_precision: 0.8232 - val_recall: 0.8223 - val_auc: 0.9531\n",
      "Epoch 20/40\n",
      "202/203 [============================>.] - ETA: 0s - loss: 0.4041 - accuracy: 0.8444 - precision: 0.8566 - recall: 0.8247 - auc: 0.9549\n",
      "Epoch 00020: val_loss improved from 0.34131 to 0.29571, saving model to Checkpoint.h5\n",
      "203/203 [==============================] - 56s 274ms/step - loss: 0.4044 - accuracy: 0.8440 - precision: 0.8563 - recall: 0.8243 - auc: 0.9547 - val_loss: 0.2957 - val_accuracy: 0.8305 - val_precision: 0.8341 - val_recall: 0.8276 - val_auc: 0.9578\n",
      "Epoch 21/40\n",
      "202/203 [============================>.] - ETA: 0s - loss: 0.3605 - accuracy: 0.8587 - precision: 0.8676 - recall: 0.8474 - auc: 0.9641\n",
      "Epoch 00021: val_loss did not improve from 0.29571\n",
      "203/203 [==============================] - 56s 274ms/step - loss: 0.3616 - accuracy: 0.8585 - precision: 0.8676 - recall: 0.8470 - auc: 0.9639 - val_loss: 0.3844 - val_accuracy: 0.8192 - val_precision: 0.8327 - val_recall: 0.8107 - val_auc: 0.9363\n",
      "Epoch 22/40\n",
      "202/203 [============================>.] - ETA: 0s - loss: 0.4513 - accuracy: 0.8299 - precision: 0.8464 - recall: 0.8068 - auc: 0.9452\n",
      "Epoch 00022: val_loss did not improve from 0.29571\n",
      "203/203 [==============================] - 56s 274ms/step - loss: 0.4508 - accuracy: 0.8295 - precision: 0.8460 - recall: 0.8066 - auc: 0.9452 - val_loss: 0.4461 - val_accuracy: 0.8196 - val_precision: 0.8198 - val_recall: 0.7969 - val_auc: 0.9242\n",
      "Epoch 23/40\n",
      "202/203 [============================>.] - ETA: 0s - loss: 0.3027 - accuracy: 0.8845 - precision: 0.8947 - recall: 0.8713 - auc: 0.9743\n",
      "Epoch 00023: val_loss did not improve from 0.29571\n",
      "203/203 [==============================] - 56s 274ms/step - loss: 0.3053 - accuracy: 0.8837 - precision: 0.8940 - recall: 0.8706 - auc: 0.9739 - val_loss: 0.3304 - val_accuracy: 0.8163 - val_precision: 0.8206 - val_recall: 0.8070 - val_auc: 0.9484\n",
      "Epoch 24/40\n",
      "202/203 [============================>.] - ETA: 0s - loss: 0.3168 - accuracy: 0.8740 - precision: 0.8855 - recall: 0.8622 - auc: 0.9724\n",
      "Epoch 00024: val_loss improved from 0.29571 to 0.23879, saving model to Checkpoint.h5\n",
      "203/203 [==============================] - 56s 274ms/step - loss: 0.3167 - accuracy: 0.8740 - precision: 0.8854 - recall: 0.8622 - auc: 0.9724 - val_loss: 0.2388 - val_accuracy: 0.9004 - val_precision: 0.9015 - val_recall: 0.8983 - val_auc: 0.9725\n",
      "Epoch 25/40\n",
      "202/203 [============================>.] - ETA: 0s - loss: 0.2938 - accuracy: 0.8937 - precision: 0.8999 - recall: 0.8798 - auc: 0.9751\n",
      "Epoch 00025: val_loss did not improve from 0.23879\n",
      "203/203 [==============================] - 56s 274ms/step - loss: 0.2933 - accuracy: 0.8940 - precision: 0.9002 - recall: 0.8802 - auc: 0.9752 - val_loss: 0.3646 - val_accuracy: 0.8676 - val_precision: 0.8878 - val_recall: 0.8662 - val_auc: 0.9499\n",
      "Epoch 26/40\n",
      "202/203 [============================>.] - ETA: 0s - loss: 0.4320 - accuracy: 0.8370 - precision: 0.8512 - recall: 0.8172 - auc: 0.9501\n",
      "Epoch 00026: val_loss did not improve from 0.23879\n",
      "203/203 [==============================] - 56s 274ms/step - loss: 0.4324 - accuracy: 0.8362 - precision: 0.8505 - recall: 0.8165 - auc: 0.9499 - val_loss: 0.3669 - val_accuracy: 0.8214 - val_precision: 0.8416 - val_recall: 0.8061 - val_auc: 0.9375\n",
      "Epoch 27/40\n",
      "202/203 [============================>.] - ETA: 0s - loss: 0.3442 - accuracy: 0.8584 - precision: 0.8723 - recall: 0.8425 - auc: 0.9658\n",
      "Epoch 00027: val_loss did not improve from 0.23879\n",
      "203/203 [==============================] - 56s 273ms/step - loss: 0.3440 - accuracy: 0.8582 - precision: 0.8723 - recall: 0.8424 - auc: 0.9658 - val_loss: 0.5378 - val_accuracy: 0.7477 - val_precision: 0.7481 - val_recall: 0.7332 - val_auc: 0.8926\n",
      "Epoch 28/40\n",
      "202/203 [============================>.] - ETA: 0s - loss: 0.3386 - accuracy: 0.8696 - precision: 0.8801 - recall: 0.8572 - auc: 0.9681\n",
      "Epoch 00028: val_loss did not improve from 0.23879\n",
      "203/203 [==============================] - 56s 274ms/step - loss: 0.3391 - accuracy: 0.8692 - precision: 0.8799 - recall: 0.8568 - auc: 0.9680 - val_loss: 0.2774 - val_accuracy: 0.8794 - val_precision: 0.8802 - val_recall: 0.8784 - val_auc: 0.9633\n",
      "Epoch 29/40\n",
      "202/203 [============================>.] - ETA: 0s - loss: 0.2969 - accuracy: 0.8964 - precision: 0.8995 - recall: 0.8897 - auc: 0.9749\n",
      "Epoch 00029: val_loss did not improve from 0.23879\n",
      "203/203 [==============================] - 56s 274ms/step - loss: 0.2969 - accuracy: 0.8960 - precision: 0.8992 - recall: 0.8893 - auc: 0.9749 - val_loss: 0.5008 - val_accuracy: 0.7521 - val_precision: 0.7623 - val_recall: 0.7363 - val_auc: 0.8979\n",
      "Epoch 30/40\n",
      "202/203 [============================>.] - ETA: 0s - loss: 0.2517 - accuracy: 0.9081 - precision: 0.9123 - recall: 0.9007 - auc: 0.9819\n",
      "Epoch 00030: val_loss improved from 0.23879 to 0.21856, saving model to Checkpoint.h5\n",
      "203/203 [==============================] - 56s 274ms/step - loss: 0.2532 - accuracy: 0.9064 - precision: 0.9105 - recall: 0.8990 - auc: 0.9817 - val_loss: 0.2186 - val_accuracy: 0.9126 - val_precision: 0.9151 - val_recall: 0.9112 - val_auc: 0.9775\n",
      "Epoch 31/40\n",
      "202/203 [============================>.] - ETA: 0s - loss: 0.2603 - accuracy: 0.9009 - precision: 0.9077 - recall: 0.8949 - auc: 0.9803\n",
      "Epoch 00031: val_loss did not improve from 0.21856\n",
      "203/203 [==============================] - 56s 274ms/step - loss: 0.2597 - accuracy: 0.9010 - precision: 0.9078 - recall: 0.8950 - auc: 0.9803 - val_loss: 0.2547 - val_accuracy: 0.8966 - val_precision: 0.8972 - val_recall: 0.8937 - val_auc: 0.9706\n",
      "Epoch 32/40\n",
      "202/203 [============================>.] - ETA: 0s - loss: 0.3043 - accuracy: 0.8836 - precision: 0.8972 - recall: 0.8731 - auc: 0.9739\n",
      "Epoch 00032: val_loss did not improve from 0.21856\n",
      "203/203 [==============================] - 56s 274ms/step - loss: 0.3040 - accuracy: 0.8839 - precision: 0.8974 - recall: 0.8735 - auc: 0.9740 - val_loss: 0.3181 - val_accuracy: 0.8345 - val_precision: 0.8386 - val_recall: 0.8303 - val_auc: 0.9560\n",
      "Epoch 33/40\n",
      "202/203 [============================>.] - ETA: 0s - loss: 0.3211 - accuracy: 0.8725 - precision: 0.8905 - recall: 0.8658 - auc: 0.9714\n",
      "Epoch 00033: val_loss did not improve from 0.21856\n",
      "203/203 [==============================] - 56s 274ms/step - loss: 0.3237 - accuracy: 0.8711 - precision: 0.8889 - recall: 0.8642 - auc: 0.9710 - val_loss: 0.4525 - val_accuracy: 0.7746 - val_precision: 0.7797 - val_recall: 0.7339 - val_auc: 0.9063\n",
      "Epoch 34/40\n",
      "202/203 [============================>.] - ETA: 0s - loss: 0.3230 - accuracy: 0.8728 - precision: 0.8901 - recall: 0.8603 - auc: 0.9708\n",
      "Epoch 00034: val_loss did not improve from 0.21856\n",
      "203/203 [==============================] - 56s 275ms/step - loss: 0.3224 - accuracy: 0.8731 - precision: 0.8904 - recall: 0.8608 - auc: 0.9709 - val_loss: 0.3132 - val_accuracy: 0.8693 - val_precision: 0.8732 - val_recall: 0.8665 - val_auc: 0.9584\n",
      "Epoch 35/40\n",
      "202/203 [============================>.] - ETA: 0s - loss: 0.2002 - accuracy: 0.9277 - precision: 0.9339 - recall: 0.9217 - auc: 0.9882\n",
      "Epoch 00035: val_loss did not improve from 0.21856\n",
      "203/203 [==============================] - 56s 274ms/step - loss: 0.2001 - accuracy: 0.9277 - precision: 0.9339 - recall: 0.9217 - auc: 0.9882 - val_loss: 0.5664 - val_accuracy: 0.8380 - val_precision: 0.8380 - val_recall: 0.8380 - val_auc: 0.9342\n",
      "Epoch 36/40\n",
      "202/203 [============================>.] - ETA: 0s - loss: 0.2416 - accuracy: 0.9086 - precision: 0.9160 - recall: 0.9014 - auc: 0.9825\n",
      "Epoch 00036: val_loss did not improve from 0.21856\n",
      "203/203 [==============================] - 56s 274ms/step - loss: 0.2407 - accuracy: 0.9088 - precision: 0.9163 - recall: 0.9017 - auc: 0.9827 - val_loss: 0.3017 - val_accuracy: 0.9092 - val_precision: 0.9099 - val_recall: 0.8887 - val_auc: 0.9635\n",
      "Epoch 37/40\n",
      "202/203 [============================>.] - ETA: 0s - loss: 0.2029 - accuracy: 0.9254 - precision: 0.9293 - recall: 0.9237 - auc: 0.9873\n",
      "Epoch 00037: val_loss did not improve from 0.21856\n",
      "203/203 [==============================] - 56s 274ms/step - loss: 0.2046 - accuracy: 0.9249 - precision: 0.9288 - recall: 0.9232 - auc: 0.9870 - val_loss: 0.6516 - val_accuracy: 0.7913 - val_precision: 0.7992 - val_recall: 0.7898 - val_auc: 0.9043\n",
      "Epoch 38/40\n",
      "202/203 [============================>.] - ETA: 0s - loss: 0.1933 - accuracy: 0.9296 - precision: 0.9338 - recall: 0.9268 - auc: 0.9883\n",
      "Epoch 00038: val_loss did not improve from 0.21856\n",
      "203/203 [==============================] - 56s 274ms/step - loss: 0.1931 - accuracy: 0.9295 - precision: 0.9337 - recall: 0.9267 - auc: 0.9884 - val_loss: 0.2459 - val_accuracy: 0.9094 - val_precision: 0.9092 - val_recall: 0.9069 - val_auc: 0.9710\n",
      "Epoch 39/40\n",
      "202/203 [============================>.] - ETA: 0s - loss: 0.1852 - accuracy: 0.9363 - precision: 0.9384 - recall: 0.9337 - auc: 0.9891\n",
      "Epoch 00039: val_loss did not improve from 0.21856\n",
      "203/203 [==============================] - 56s 274ms/step - loss: 0.1851 - accuracy: 0.9368 - precision: 0.9389 - recall: 0.9343 - auc: 0.9891 - val_loss: 0.3126 - val_accuracy: 0.8882 - val_precision: 0.8882 - val_recall: 0.8882 - val_auc: 0.9647\n",
      "Epoch 40/40\n",
      "202/203 [============================>.] - ETA: 0s - loss: 0.1844 - accuracy: 0.9319 - precision: 0.9356 - recall: 0.9305 - auc: 0.9899\n",
      "Epoch 00040: val_loss did not improve from 0.21856\n",
      "203/203 [==============================] - 56s 274ms/step - loss: 0.1855 - accuracy: 0.9314 - precision: 0.9351 - recall: 0.9301 - auc: 0.9898 - val_loss: 0.4619 - val_accuracy: 0.8410 - val_precision: 0.8429 - val_recall: 0.8382 - val_auc: 0.9355\n",
      "Epoch 00040: early stopping\n"
     ]
    }
   ],
   "source": [
    "history = model.fit(train_dataset,validation_data=val_dataset,shuffle=True,epochs=40,class_weight=samples,steps_per_epoch=total_train_samples//TRAIN_BATCH,validation_steps=total_test_samples//VAL_BATCH,callbacks=[early_stopping,model_checkpoint])"
   ]
  },
  {
   "cell_type": "code",
   "execution_count": 0,
   "metadata": {
    "colab": {},
    "colab_type": "code",
    "id": "FH0TPbgWHVBO"
   },
   "outputs": [],
   "source": [
    "model = tf.keras.models.load_model('Checkpoint.h5')"
   ]
  },
  {
   "cell_type": "code",
   "execution_count": 0,
   "metadata": {
    "colab": {},
    "colab_type": "code",
    "id": "3GCuXFLoGc6P"
   },
   "outputs": [],
   "source": [
    "model.save('/content/drive/My Drive/COVID-19-Xrays/BestModel.h5')"
   ]
  },
  {
   "cell_type": "code",
   "execution_count": 0,
   "metadata": {
    "colab": {},
    "colab_type": "code",
    "id": "TK1vMXhV5_vD"
   },
   "outputs": [],
   "source": [
    "from sklearn.metrics import precision_recall_fscore_support\n",
    "from sklearn.metrics import balanced_accuracy_score\n",
    "from sklearn.metrics import roc_auc_score\n",
    "def metrics(list1,list2,roc_list):\n",
    "  accuracy = balanced_accuracy_score(list1,list2)\n",
    "  roc_auc = roc_auc_score(list1,roc_list,multi_class='ovr',labels=[0,1,2],average='weighted')\n",
    "  precision,recall,fscore,_ = precision_recall_fscore_support(list1,list2,labels=[0,1,2],average='weighted')\n",
    "  return accuracy,precision,recall,fscore,roc_auc"
   ]
  },
  {
   "cell_type": "code",
   "execution_count": 49,
   "metadata": {
    "colab": {
     "base_uri": "https://localhost:8080/",
     "height": 101
    },
    "colab_type": "code",
    "id": "B7MK58Wtbal6",
    "outputId": "9cb2ec22-c1fe-437e-f7ce-1822770aa0bf"
   },
   "outputs": [
    {
     "name": "stdout",
     "output_type": "stream",
     "text": [
      "Accuracy on Test Set is:  0.8564749883122955\n",
      "Precision on Test Set is:  0.8774582560296846\n",
      "Recall on Test Set is:  0.8311688311688312\n",
      "Fscore:  0.8289390573366232\n",
      "AUC Score:  0.9797247840726102\n"
     ]
    }
   ],
   "source": [
    "image,files,roc_list = [],[],[]\n",
    "acc=0\n",
    "for i in glob.glob('/content/drive/My Drive/COVID-19-Xrays/test/*.jpeg')+glob.glob('/content/drive/My Drive/COVID-19-Xrays/test/*.png')+glob.glob('/content/drive/My Drive/COVID-19-Xrays/test/*.jpg'):\n",
    "  img = open(i,'rb').read()\n",
    "  img = tf.io.decode_jpeg(img,channels=1)\n",
    "  img = tf.cast(img , tf.float32) * (1. / 255)\n",
    "  img = tf.image.resize(img,(300,400))\n",
    "  preds = model.predict(np.expand_dims(img,axis=0))\n",
    "  roc_list.append(preds[0])\n",
    "  image.append(np.argmax(preds))\n",
    "  name = os.path.basename(i).split('.')[0]\n",
    "  if name.find('NORMAL')!=-1:\n",
    "    files.append(1) \n",
    "  elif int(name)<700:\n",
    "    files.append(0)\n",
    "  elif int(name)>700:\n",
    "    files.append(2)   \n",
    "accuracy,precision,recall,fscore,auc = metrics(files,image,roc_list)\n",
    "print(\"Accuracy on Test Set is: \",accuracy)\n",
    "print(\"Precision on Test Set is: \", precision)\n",
    "print(\"Recall on Test Set is: \",recall)\n",
    "print(\"Fscore: \",fscore)\n",
    "print(\"AUC Score: \",auc)\n",
    "\n",
    "# Mostly Categorizes some Normal as Bacterial Pneumonia. Needs more data for now!"
   ]
  },
  {
   "cell_type": "code",
   "execution_count": 158,
   "metadata": {
    "colab": {
     "base_uri": "https://localhost:8080/",
     "height": 386
    },
    "colab_type": "code",
    "id": "wpvTin5UfJgn",
    "outputId": "a99aeb76-f9bf-4685-f846-ce98b5d7e439"
   },
   "outputs": [
    {
     "name": "stdout",
     "output_type": "stream",
     "text": [
      "5e6dd879fde9502400e58b2f COVID-19\n",
      "171CB377-62FF-4B76-906C-F3787A01CB2E COVID-19\n",
      "FE9F9A5D-2830-46F9-851B-1FF4534959BE COVID-19\n",
      "NORMAL2-IM-1336-0001 Normal\n",
      "C6EA0BE5-B01E-4113-B194-18D956675E25 COVID-19\n",
      "5931B64A-7B97-485D-BE60-3F1EA76BC4F0 COVID-19\n",
      "NORMAL2-IM-1332-0001 Normal\n",
      "NORMAL2-IM-1334-0001 Normal\n",
      "NORMAL2-IM-1333-0001 Normal\n",
      "NORMAL2-IM-1329-0001 Normal\n",
      "NORMAL2-IM-1337-0001 Normal\n",
      "NORMAL2-IM-1330-0001 Normal\n",
      "03BF7561-A9BA-4C3C-B8A0-D3E585F73F3C COVID-19\n",
      "NORMAL2-IM-1335-0001 Normal\n",
      "353889E0-A1E8-4F9E-A0B8-F24F36BCFBFB COVID-19\n",
      "7EF28E12-F628-4BEC-A8C5-E6277C2E4F60 COVID-19\n",
      "lightbox_fa6b3f70948311e981c7c7c60cec3600-CXR-thoraltensis COVID-19\n",
      "streptococcus-pneumoniae-pneumonia-temporal-evolution-1-day3 COVID-19\n",
      "streptococcus-pneumoniae-pneumonia-temporal-evolution-1-day2 COVID-19\n",
      "streptococcus-pneumoniae-pneumonia-1 COVID-19\n",
      "streptococcus-pneumoniae-pneumonia-temporal-evolution-1-day0 COVID-19\n",
      "streptococcus-pneumoniae-pneumonia-temporal-evolution-1-day1 COVID-19\n"
     ]
    }
   ],
   "source": [
    "image,files = [],[]\n",
    "acc=0\n",
    "for i in glob.glob('/content/*.jpeg')+glob.glob('/content/*.png')+glob.glob('/content/*.jpg'):\n",
    "  img = open(i,'rb').read()\n",
    "  img = tf.io.decode_jpeg(img,channels=1)\n",
    "  img = tf.cast(img , tf.float32) * (1. / 255)\n",
    "  img = tf.image.resize(img,(300,400))\n",
    "  preds = model.predict_classes(np.expand_dims(img,axis=0))\n",
    "  image.append(class_list[preds[0]])\n",
    "  name = os.path.basename(i).split('.')[0]\n",
    "  files.append(name)\n",
    "for i,j in zip(files,image):\n",
    "  print(i,j)  \n",
    "\n",
    "# Categorizes some bacterial pneumonia as COVID-19. Again, needs more data!"
   ]
  }
 ],
 "metadata": {
  "accelerator": "GPU",
  "colab": {
   "collapsed_sections": [],
   "machine_shape": "hm",
   "name": "COVID_19Detector (1).ipynb",
   "provenance": []
  },
  "kernelspec": {
   "display_name": "Python 3",
   "language": "python",
   "name": "python3"
  },
  "language_info": {
   "codemirror_mode": {
    "name": "ipython",
    "version": 3
   },
   "file_extension": ".py",
   "mimetype": "text/x-python",
   "name": "python",
   "nbconvert_exporter": "python",
   "pygments_lexer": "ipython3",
   "version": "3.7.5"
  }
 },
 "nbformat": 4,
 "nbformat_minor": 1
}
